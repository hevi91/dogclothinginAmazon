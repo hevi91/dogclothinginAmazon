{
 "cells": [
  {
   "cell_type": "markdown",
   "metadata": {},
   "source": [
    "# Binning 22 con Leave one out"
   ]
  },
  {
   "cell_type": "code",
   "execution_count": 2,
   "metadata": {},
   "outputs": [],
   "source": [
    "import pandas as pd\n",
    "import pandas_profiling\n",
    "import numpy as np\n",
    "from sklearn.metrics import accuracy_score\n",
    "from sklearn.metrics import precision_score\n",
    "from sklearn.metrics import recall_score\n",
    "from sklearn.metrics import f1_score\n",
    "import matplotlib.pyplot as plt\n",
    "import seaborn as sns\n",
    "import os\n",
    "import matplotlib.pyplot as plt\n",
    "import seaborn as sns\n",
    "from sklearn.model_selection import cross_val_score\n",
    "from sklearn.ensemble import AdaBoostClassifier\n",
    "from sklearn.metrics import make_scorer\n",
    "from sklearn import metrics\n",
    "from sklearn import neighbors\n",
    "\n",
    "#pd.set_option('display.max_rows', None)\n",
    "#pd.set_option('display.max_columns', None)"
   ]
  },
  {
   "cell_type": "code",
   "execution_count": 2,
   "metadata": {},
   "outputs": [],
   "source": [
    "df = pd.read_excel('C://Users//Stephanie//Desktop//dog proyect//prueba 3.xlsx')\n",
    "df1=pd.read_excel('C://Users//Stephanie//Desktop//dog proyect//prueba 3.xlsx')"
   ]
  },
  {
   "cell_type": "code",
   "execution_count": 3,
   "metadata": {},
   "outputs": [
    {
     "data": {
      "text/html": [
       "<div>\n",
       "<style scoped>\n",
       "    .dataframe tbody tr th:only-of-type {\n",
       "        vertical-align: middle;\n",
       "    }\n",
       "\n",
       "    .dataframe tbody tr th {\n",
       "        vertical-align: top;\n",
       "    }\n",
       "\n",
       "    .dataframe thead th {\n",
       "        text-align: right;\n",
       "    }\n",
       "</style>\n",
       "<table border=\"1\" class=\"dataframe\">\n",
       "  <thead>\n",
       "    <tr style=\"text-align: right;\">\n",
       "      <th></th>\n",
       "      <th>Categoría</th>\n",
       "      <th>Color</th>\n",
       "      <th>Material</th>\n",
       "      <th>Precio</th>\n",
       "      <th>Prime</th>\n",
       "      <th>Tallas</th>\n",
       "      <th>Epoca del año</th>\n",
       "      <th>Valoraciones</th>\n",
       "      <th>Promedio Estrellas (5)</th>\n",
       "      <th>5 estrellas %</th>\n",
       "      <th>4 estrellas %</th>\n",
       "      <th>3 estrellas %</th>\n",
       "      <th>2 estrellas %</th>\n",
       "      <th>1 estrella %</th>\n",
       "      <th>Antigüedad del producto</th>\n",
       "    </tr>\n",
       "  </thead>\n",
       "  <tbody>\n",
       "    <tr>\n",
       "      <td>0</td>\n",
       "      <td>Disfraces</td>\n",
       "      <td>Rojo</td>\n",
       "      <td>Acrílico transpirable</td>\n",
       "      <td>14.99</td>\n",
       "      <td>Si</td>\n",
       "      <td>S</td>\n",
       "      <td>Invierno</td>\n",
       "      <td>104</td>\n",
       "      <td>4.5</td>\n",
       "      <td>0.70</td>\n",
       "      <td>0.16</td>\n",
       "      <td>0.08</td>\n",
       "      <td>0.03</td>\n",
       "      <td>0.03</td>\n",
       "      <td>2019</td>\n",
       "    </tr>\n",
       "    <tr>\n",
       "      <td>1</td>\n",
       "      <td>Disfraces</td>\n",
       "      <td>Rojo</td>\n",
       "      <td>Acrílico transpirable</td>\n",
       "      <td>14.99</td>\n",
       "      <td>Si</td>\n",
       "      <td>M</td>\n",
       "      <td>Invierno</td>\n",
       "      <td>104</td>\n",
       "      <td>4.5</td>\n",
       "      <td>0.70</td>\n",
       "      <td>0.16</td>\n",
       "      <td>0.08</td>\n",
       "      <td>0.03</td>\n",
       "      <td>0.03</td>\n",
       "      <td>2019</td>\n",
       "    </tr>\n",
       "    <tr>\n",
       "      <td>2</td>\n",
       "      <td>Disfraces</td>\n",
       "      <td>Rojo</td>\n",
       "      <td>Acrílico transpirable</td>\n",
       "      <td>14.99</td>\n",
       "      <td>Si</td>\n",
       "      <td>L</td>\n",
       "      <td>Invierno</td>\n",
       "      <td>104</td>\n",
       "      <td>4.5</td>\n",
       "      <td>0.70</td>\n",
       "      <td>0.16</td>\n",
       "      <td>0.08</td>\n",
       "      <td>0.03</td>\n",
       "      <td>0.03</td>\n",
       "      <td>2019</td>\n",
       "    </tr>\n",
       "    <tr>\n",
       "      <td>3</td>\n",
       "      <td>Disfraces</td>\n",
       "      <td>Rojo</td>\n",
       "      <td>Acrílico transpirable</td>\n",
       "      <td>14.99</td>\n",
       "      <td>Si</td>\n",
       "      <td>XL</td>\n",
       "      <td>Invierno</td>\n",
       "      <td>104</td>\n",
       "      <td>4.5</td>\n",
       "      <td>0.70</td>\n",
       "      <td>0.16</td>\n",
       "      <td>0.08</td>\n",
       "      <td>0.03</td>\n",
       "      <td>0.03</td>\n",
       "      <td>2019</td>\n",
       "    </tr>\n",
       "    <tr>\n",
       "      <td>4</td>\n",
       "      <td>Chubasqueros</td>\n",
       "      <td>Azul</td>\n",
       "      <td>Poliester</td>\n",
       "      <td>11.99</td>\n",
       "      <td>Si</td>\n",
       "      <td>S</td>\n",
       "      <td>multiestacional</td>\n",
       "      <td>66</td>\n",
       "      <td>4.5</td>\n",
       "      <td>0.05</td>\n",
       "      <td>0.19</td>\n",
       "      <td>0.10</td>\n",
       "      <td>0.08</td>\n",
       "      <td>0.04</td>\n",
       "      <td>2017</td>\n",
       "    </tr>\n",
       "    <tr>\n",
       "      <td>...</td>\n",
       "      <td>...</td>\n",
       "      <td>...</td>\n",
       "      <td>...</td>\n",
       "      <td>...</td>\n",
       "      <td>...</td>\n",
       "      <td>...</td>\n",
       "      <td>...</td>\n",
       "      <td>...</td>\n",
       "      <td>...</td>\n",
       "      <td>...</td>\n",
       "      <td>...</td>\n",
       "      <td>...</td>\n",
       "      <td>...</td>\n",
       "      <td>...</td>\n",
       "      <td>...</td>\n",
       "    </tr>\n",
       "    <tr>\n",
       "      <td>1111</td>\n",
       "      <td>Disfraces</td>\n",
       "      <td>Rojo</td>\n",
       "      <td>Algodón</td>\n",
       "      <td>23.55</td>\n",
       "      <td>No</td>\n",
       "      <td>M</td>\n",
       "      <td>multiestacional</td>\n",
       "      <td>5</td>\n",
       "      <td>3.5</td>\n",
       "      <td>0.22</td>\n",
       "      <td>0.38</td>\n",
       "      <td>0.24</td>\n",
       "      <td>0.00</td>\n",
       "      <td>0.16</td>\n",
       "      <td>2015</td>\n",
       "    </tr>\n",
       "    <tr>\n",
       "      <td>1112</td>\n",
       "      <td>Protector de patas</td>\n",
       "      <td>Negro</td>\n",
       "      <td>Tela, Goma</td>\n",
       "      <td>12.99</td>\n",
       "      <td>Si</td>\n",
       "      <td>S</td>\n",
       "      <td>multiestacional</td>\n",
       "      <td>63</td>\n",
       "      <td>3.1</td>\n",
       "      <td>0.34</td>\n",
       "      <td>0.13</td>\n",
       "      <td>0.10</td>\n",
       "      <td>0.11</td>\n",
       "      <td>0.32</td>\n",
       "      <td>2017</td>\n",
       "    </tr>\n",
       "    <tr>\n",
       "      <td>1113</td>\n",
       "      <td>Protector de patas</td>\n",
       "      <td>Negro</td>\n",
       "      <td>Tela, Goma</td>\n",
       "      <td>12.99</td>\n",
       "      <td>Si</td>\n",
       "      <td>M</td>\n",
       "      <td>multiestacional</td>\n",
       "      <td>63</td>\n",
       "      <td>3.1</td>\n",
       "      <td>0.34</td>\n",
       "      <td>0.13</td>\n",
       "      <td>0.10</td>\n",
       "      <td>0.11</td>\n",
       "      <td>0.32</td>\n",
       "      <td>2017</td>\n",
       "    </tr>\n",
       "    <tr>\n",
       "      <td>1114</td>\n",
       "      <td>Protector de patas</td>\n",
       "      <td>Negro</td>\n",
       "      <td>Tela, Goma</td>\n",
       "      <td>13.99</td>\n",
       "      <td>Si</td>\n",
       "      <td>L</td>\n",
       "      <td>multiestacional</td>\n",
       "      <td>63</td>\n",
       "      <td>3.1</td>\n",
       "      <td>0.34</td>\n",
       "      <td>0.13</td>\n",
       "      <td>0.10</td>\n",
       "      <td>0.11</td>\n",
       "      <td>0.32</td>\n",
       "      <td>2017</td>\n",
       "    </tr>\n",
       "    <tr>\n",
       "      <td>1115</td>\n",
       "      <td>Protector de patas</td>\n",
       "      <td>Negro</td>\n",
       "      <td>Tela, Goma</td>\n",
       "      <td>13.99</td>\n",
       "      <td>Si</td>\n",
       "      <td>XL</td>\n",
       "      <td>multiestacional</td>\n",
       "      <td>63</td>\n",
       "      <td>3.1</td>\n",
       "      <td>0.34</td>\n",
       "      <td>0.13</td>\n",
       "      <td>0.10</td>\n",
       "      <td>0.11</td>\n",
       "      <td>0.32</td>\n",
       "      <td>2017</td>\n",
       "    </tr>\n",
       "  </tbody>\n",
       "</table>\n",
       "<p>1116 rows × 15 columns</p>\n",
       "</div>"
      ],
      "text/plain": [
       "               Categoría  Color               Material  Precio Prime Tallas  \\\n",
       "0              Disfraces   Rojo  Acrílico transpirable   14.99    Si      S   \n",
       "1              Disfraces   Rojo  Acrílico transpirable   14.99    Si      M   \n",
       "2              Disfraces   Rojo  Acrílico transpirable   14.99    Si      L   \n",
       "3              Disfraces   Rojo  Acrílico transpirable   14.99    Si     XL   \n",
       "4           Chubasqueros   Azul              Poliester   11.99    Si      S   \n",
       "...                  ...    ...                    ...     ...   ...    ...   \n",
       "1111           Disfraces   Rojo                Algodón   23.55    No      M   \n",
       "1112  Protector de patas  Negro             Tela, Goma   12.99    Si      S   \n",
       "1113  Protector de patas  Negro             Tela, Goma   12.99    Si      M   \n",
       "1114  Protector de patas  Negro             Tela, Goma   13.99    Si      L   \n",
       "1115  Protector de patas  Negro             Tela, Goma   13.99    Si     XL   \n",
       "\n",
       "        Epoca del año  Valoraciones  Promedio Estrellas (5)  5 estrellas %  \\\n",
       "0            Invierno           104                     4.5           0.70   \n",
       "1            Invierno           104                     4.5           0.70   \n",
       "2            Invierno           104                     4.5           0.70   \n",
       "3            Invierno           104                     4.5           0.70   \n",
       "4     multiestacional            66                     4.5           0.05   \n",
       "...               ...           ...                     ...            ...   \n",
       "1111  multiestacional             5                     3.5           0.22   \n",
       "1112  multiestacional            63                     3.1           0.34   \n",
       "1113  multiestacional            63                     3.1           0.34   \n",
       "1114  multiestacional            63                     3.1           0.34   \n",
       "1115  multiestacional            63                     3.1           0.34   \n",
       "\n",
       "      4 estrellas %  3 estrellas %  2 estrellas %  1 estrella %  \\\n",
       "0              0.16           0.08           0.03          0.03   \n",
       "1              0.16           0.08           0.03          0.03   \n",
       "2              0.16           0.08           0.03          0.03   \n",
       "3              0.16           0.08           0.03          0.03   \n",
       "4              0.19           0.10           0.08          0.04   \n",
       "...             ...            ...            ...           ...   \n",
       "1111           0.38           0.24           0.00          0.16   \n",
       "1112           0.13           0.10           0.11          0.32   \n",
       "1113           0.13           0.10           0.11          0.32   \n",
       "1114           0.13           0.10           0.11          0.32   \n",
       "1115           0.13           0.10           0.11          0.32   \n",
       "\n",
       "      Antigüedad del producto  \n",
       "0                        2019  \n",
       "1                        2019  \n",
       "2                        2019  \n",
       "3                        2019  \n",
       "4                        2017  \n",
       "...                       ...  \n",
       "1111                     2015  \n",
       "1112                     2017  \n",
       "1113                     2017  \n",
       "1114                     2017  \n",
       "1115                     2017  \n",
       "\n",
       "[1116 rows x 15 columns]"
      ]
     },
     "execution_count": 3,
     "metadata": {},
     "output_type": "execute_result"
    }
   ],
   "source": [
    "del df['Titulo']\n",
    "del df['Vestidos para perros']\n",
    "del df['en Camisas para perros']\n",
    "del df['Chubasqueros para perros']\n",
    "del df['Disfraces para perros']\n",
    "del df['Sudaderas con capucha para perros']\n",
    "del df['Ropa y accesorios para perros']\n",
    "del df['Abrigos y chaquetas para perros']\n",
    "del df['Jersey para perros']\n",
    "del df['Botas y protectores de patas']\n",
    "del df['Link']\n",
    "df"
   ]
  },
  {
   "cell_type": "code",
   "execution_count": 4,
   "metadata": {},
   "outputs": [],
   "source": [
    "columna = \"Categoría\" \n",
    "keys=df['Categoría'] .unique()\n",
    "values=range(len(keys))\n",
    "Categoría=dict(zip(keys,values))\n",
    "df['Categoría']=df['Categoría'].replace(Categoría)\n",
    "\n",
    "columna = \"Material\" \n",
    "keys=df['Material'] .unique()\n",
    "values=range(len(keys))\n",
    "Material=dict(zip(keys,values))\n",
    "df['Material']=df['Material'].replace(Material)\n",
    "\n",
    "columna = \"Prime\"\n",
    "keys=df['Prime'] .unique()\n",
    "values=range(len(keys))\n",
    "Prime=dict(zip(keys,values))\n",
    "df['Prime']=df['Prime'].replace(Prime)\n",
    "\n",
    "columna = \"Epoca del año\"\n",
    "keys=df['Epoca del año'] .unique()\n",
    "values=range(len(keys))\n",
    "Epoca=dict(zip(keys,values))\n",
    "df['Epoca del año']=df['Epoca del año'].replace(Epoca)\n",
    "\n",
    "columna = \"Tallas\"\n",
    "keys=df['Tallas'] .unique()\n",
    "values=range(len(keys))\n",
    "Tallas=dict(zip(keys,values))\n",
    "df['Tallas']=df['Tallas'].replace(Tallas)\n",
    "\n",
    "columna = \"Color\"\n",
    "keys=df['Color'] .unique()\n",
    "values=range(len(keys))\n",
    "Color=dict(zip(keys,values))\n",
    "df['Color']=df['Color'].replace(Color)\n"
   ]
  },
  {
   "cell_type": "markdown",
   "metadata": {},
   "source": [
    "# Se aplica el binning para precio"
   ]
  },
  {
   "cell_type": "code",
   "execution_count": 5,
   "metadata": {},
   "outputs": [
    {
     "data": {
      "text/plain": [
       "Text(0.5, 1.0, 'Precio')"
      ]
     },
     "execution_count": 5,
     "metadata": {},
     "output_type": "execute_result"
    },
    {
     "data": {
      "image/png": "[encoded data removed]",
      "text/plain": [
       "<Figure size 432x288 with 1 Axes>"
      ]
     },
     "metadata": {
      "needs_background": "light"
     },
     "output_type": "display_data"
    }
   ],
   "source": [
    "plt.hist(df[\"Precio\"])\n",
    "# set x/y labels and plot title\n",
    "plt.xlabel(\"Precio\")\n",
    "plt.ylabel(\"count\")\n",
    "plt.title(\"Precio\")"
   ]
  },
  {
   "cell_type": "code",
   "execution_count": 6,
   "metadata": {},
   "outputs": [
    {
     "data": {
      "text/plain": [
       "array([ 2.29      ,  3.51380952,  4.73761905,  5.96142857,  7.1852381 ,\n",
       "        8.40904762,  9.63285714, 10.85666667, 12.08047619, 13.30428571,\n",
       "       14.52809524, 15.75190476, 16.97571429, 18.19952381, 19.42333333,\n",
       "       20.64714286, 21.87095238, 23.0947619 , 24.31857143, 25.54238095,\n",
       "       26.76619048, 27.99      ])"
      ]
     },
     "execution_count": 6,
     "metadata": {},
     "output_type": "execute_result"
    }
   ],
   "source": [
    "bins = np.linspace(min(df[\"Precio\"]), max(df[\"Precio\"]), 22)\n",
    "bins"
   ]
  },
  {
   "cell_type": "code",
   "execution_count": 7,
   "metadata": {},
   "outputs": [],
   "source": [
    "group_names = [0,1,2,3,4,5,6,7,8,9,10,11,12,13,14,15,16,17,18,19,20]"
   ]
  },
  {
   "cell_type": "code",
   "execution_count": 8,
   "metadata": {},
   "outputs": [],
   "source": [
    "df['Precios'] = pd.cut(df['Precio'], bins, labels=group_names, include_lowest=True )"
   ]
  },
  {
   "cell_type": "code",
   "execution_count": 9,
   "metadata": {},
   "outputs": [
    {
     "data": {
      "text/plain": [
       "7     117\n",
       "6     104\n",
       "5     103\n",
       "3      90\n",
       "12     90\n",
       "4      87\n",
       "2      79\n",
       "8      79\n",
       "10     72\n",
       "9      65\n",
       "0      54\n",
       "14     39\n",
       "16     25\n",
       "11     23\n",
       "13     22\n",
       "1      21\n",
       "19     20\n",
       "15     10\n",
       "18      7\n",
       "20      5\n",
       "17      4\n",
       "Name: Precios, dtype: int64"
      ]
     },
     "execution_count": 9,
     "metadata": {},
     "output_type": "execute_result"
    }
   ],
   "source": [
    "df[\"Precios\"].value_counts()"
   ]
  },
  {
   "cell_type": "code",
   "execution_count": 10,
   "metadata": {},
   "outputs": [
    {
     "data": {
      "text/plain": [
       "<matplotlib.axes._subplots.AxesSubplot at 0x1fa2dc9ab48>"
      ]
     },
     "execution_count": 10,
     "metadata": {},
     "output_type": "execute_result"
    },
    {
     "data": {
      "image/png": "[encoded data removed]",
      "text/plain": [
       "<Figure size 432x288 with 1 Axes>"
      ]
     },
     "metadata": {
      "needs_background": "light"
     },
     "output_type": "display_data"
    }
   ],
   "source": [
    "count_classes = pd.value_counts(df['Precios'], sort = True)\n",
    "count_classes.plot(kind = 'bar', rot=0)"
   ]
  },
  {
   "cell_type": "markdown",
   "metadata": {},
   "source": [
    " # PRUEBA CON TOADAS LAS COLUMNAS "
   ]
  },
  {
   "cell_type": "code",
   "execution_count": 11,
   "metadata": {},
   "outputs": [],
   "source": [
    "X = np.asarray(df[['Categoría','Color','Material','Prime','Tallas','Epoca del año','Valoraciones','Promedio Estrellas (5)', '5 estrellas %','4 estrellas %','3 estrellas %','2 estrellas %','1 estrella %','Antigüedad del producto']])\n",
    "y = np.asarray(df['Precios'])"
   ]
  },
  {
   "cell_type": "markdown",
   "metadata": {},
   "source": [
    "# Leave one out"
   ]
  },
  {
   "cell_type": "markdown",
   "metadata": {},
   "source": [
    "# kNN "
   ]
  },
  {
   "cell_type": "code",
   "execution_count": 23,
   "metadata": {},
   "outputs": [
    {
     "name": "stdout",
     "output_type": "stream",
     "text": [
      "Precisión:  0.5468436961821747\n",
      "Sensibilidad:  0.5426488770404363\n",
      "F1-score:  0.54309196039044\n",
      "Accuracy:  0.6612903225806451\n"
     ]
    },
    {
     "name": "stderr",
     "output_type": "stream",
     "text": [
      "C:\\Users\\Stephanie\\Anaconda3\\lib\\site-packages\\sklearn\\metrics\\classification.py:1437: UndefinedMetricWarning: Precision is ill-defined and being set to 0.0 in labels with no predicted samples.\n",
      "  'precision', 'predicted', average, warn_for)\n",
      "C:\\Users\\Stephanie\\Anaconda3\\lib\\site-packages\\sklearn\\metrics\\classification.py:1437: UndefinedMetricWarning: F-score is ill-defined and being set to 0.0 in labels with no predicted samples.\n",
      "  'precision', 'predicted', average, warn_for)\n"
     ]
    }
   ],
   "source": [
    "from sklearn import neighbors\n",
    "from sklearn.model_selection import LeaveOneOut\n",
    "from sklearn.naive_bayes import GaussianNB\n",
    "\n",
    "loo = LeaveOneOut()\n",
    "loo.get_n_splits(X)\n",
    "yhat=[]\n",
    "for train_index, test_index in loo.split(X):\n",
    "    X_train, X_test = X[train_index], X[test_index]\n",
    "    y_train, y_test = y[train_index], y[test_index]\n",
    "    clf = neighbors.KNeighborsClassifier(3, weights=\"distance\")\n",
    "    clf.fit(X_train, y_train)\n",
    "    yhat1 = clf.predict(X_test)\n",
    "    yhat.append(yhat1)\n",
    "print(\"Precisión: \", precision_score(y, yhat,average='macro'))\n",
    "print(\"Sensibilidad: \", recall_score(y, yhat,average='macro'))\n",
    "print(\"F1-score: \", f1_score(y,yhat, average='macro'))\n",
    "print(\"Accuracy: \", accuracy_score(y, yhat))"
   ]
  },
  {
   "cell_type": "markdown",
   "metadata": {},
   "source": [
    "# AdaBoost"
   ]
  },
  {
   "cell_type": "code",
   "execution_count": 24,
   "metadata": {},
   "outputs": [
    {
     "name": "stdout",
     "output_type": "stream",
     "text": [
      "Precisión:  0.09689649452494391\n",
      "Sensibilidad:  0.13562676468041146\n",
      "F1-score:  0.09597147349777112\n",
      "Accuracy:  0.19086021505376344\n"
     ]
    },
    {
     "name": "stderr",
     "output_type": "stream",
     "text": [
      "C:\\Users\\Stephanie\\Anaconda3\\lib\\site-packages\\sklearn\\metrics\\classification.py:1437: UndefinedMetricWarning: Precision is ill-defined and being set to 0.0 in labels with no predicted samples.\n",
      "  'precision', 'predicted', average, warn_for)\n",
      "C:\\Users\\Stephanie\\Anaconda3\\lib\\site-packages\\sklearn\\metrics\\classification.py:1437: UndefinedMetricWarning: F-score is ill-defined and being set to 0.0 in labels with no predicted samples.\n",
      "  'precision', 'predicted', average, warn_for)\n"
     ]
    }
   ],
   "source": [
    "from sklearn import neighbors\n",
    "from sklearn.model_selection import LeaveOneOut\n",
    "from sklearn.naive_bayes import GaussianNB\n",
    "\n",
    "loo = LeaveOneOut()\n",
    "loo.get_n_splits(X)\n",
    "yhat=[]\n",
    "for train_index, test_index in loo.split(X):\n",
    "    X_train, X_test = X[train_index], X[test_index]\n",
    "    y_train, y_test = y[train_index], y[test_index]\n",
    "    clf1 = AdaBoostClassifier(n_estimators=500)\n",
    "    clf1.fit(X_train, y_train)\n",
    "    yhat1 = clf1.predict(X_test)\n",
    "    yhat.append(yhat1)\n",
    "print(\"Precisión: \", precision_score(y, yhat,average='macro'))\n",
    "print(\"Sensibilidad: \", recall_score(y, yhat,average='macro'))\n",
    "print(\"F1-score: \", f1_score(y,yhat, average='macro'))\n",
    "print(\"Accuracy: \", accuracy_score(y, yhat))"
   ]
  },
  {
   "cell_type": "markdown",
   "metadata": {},
   "source": [
    "# Random Forest "
   ]
  },
  {
   "cell_type": "code",
   "execution_count": 28,
   "metadata": {},
   "outputs": [
    {
     "name": "stdout",
     "output_type": "stream",
     "text": [
      "Precisión:  0.6803314514224476\n",
      "Sensibilidad:  0.6713362420456666\n",
      "F1-score:  0.6715260246328347\n",
      "Accuracy:  0.7580645161290323\n"
     ]
    }
   ],
   "source": [
    "from sklearn import neighbors\n",
    "from sklearn.model_selection import LeaveOneOut\n",
    "from sklearn.ensemble import RandomForestClassifier\n",
    "\n",
    "\n",
    "loo = LeaveOneOut()\n",
    "loo.get_n_splits(X)\n",
    "yhat=[]\n",
    "for train_index, test_index in loo.split(X):\n",
    "    X_train, X_test = X[train_index], X[test_index]\n",
    "    y_train, y_test = y[train_index], y[test_index]\n",
    "    ramf = RandomForestClassifier(n_estimators =500)\n",
    "    ramf.fit(X_train, y_train)\n",
    "    yhat1 = ramf.predict(X_test)\n",
    "    yhat.append(yhat1)\n",
    "print(\"Precisión: \", precision_score(y, yhat,average='macro'))\n",
    "print(\"Sensibilidad: \", recall_score(y, yhat,average='macro'))\n",
    "print(\"F1-score: \", f1_score(y,yhat, average='macro'))\n",
    "print(\"Accuracy: \", accuracy_score(y, yhat))"
   ]
  },
  {
   "cell_type": "markdown",
   "metadata": {},
   "source": [
    "# Decision Tree"
   ]
  },
  {
   "cell_type": "code",
   "execution_count": 17,
   "metadata": {},
   "outputs": [
    {
     "name": "stdout",
     "output_type": "stream",
     "text": [
      "Precisión:  0.7562387783707416\n",
      "Sensibilidad:  0.7572341905437456\n",
      "F1-score:  0.7538103190275498\n",
      "Accuracy:  0.8055555555555556\n"
     ]
    }
   ],
   "source": [
    "from sklearn.datasets import load_iris\n",
    "from sklearn.model_selection import cross_val_score\n",
    "from sklearn.tree import DecisionTreeClassifier\n",
    "\n",
    "loo = LeaveOneOut()\n",
    "loo.get_n_splits(X)\n",
    "yhat=[]\n",
    "for train_index, test_index in loo.split(X):\n",
    "    X_train, X_test = X[train_index], X[test_index]\n",
    "    y_train, y_test = y[train_index], y[test_index]\n",
    "    clf3 = DecisionTreeClassifier(random_state=0)\n",
    "    clf3.fit(X_train, y_train)\n",
    "    yhat1 = clf3.predict(X_test)\n",
    "    yhat.append(yhat1)\n",
    "print(\"Precisión: \", precision_score(y, yhat,average='macro'))\n",
    "print(\"Sensibilidad: \", recall_score(y, yhat,average='macro'))\n",
    "print(\"F1-score: \", f1_score(y,yhat, average='macro'))\n",
    "print(\"Accuracy: \", accuracy_score(y, yhat))"
   ]
  },
  {
   "cell_type": "code",
   "execution_count": 7,
   "metadata": {},
   "outputs": [
    {
     "data": {
      "text/html": [
       "<div>\n",
       "<style scoped>\n",
       "    .dataframe tbody tr th:only-of-type {\n",
       "        vertical-align: middle;\n",
       "    }\n",
       "\n",
       "    .dataframe tbody tr th {\n",
       "        vertical-align: top;\n",
       "    }\n",
       "\n",
       "    .dataframe thead th {\n",
       "        text-align: right;\n",
       "    }\n",
       "</style>\n",
       "<table border=\"1\" class=\"dataframe\">\n",
       "  <thead>\n",
       "    <tr style=\"text-align: right;\">\n",
       "      <th></th>\n",
       "      <th>Accuracy Leave One Out</th>\n",
       "      <th>Accuracy Holdout</th>\n",
       "    </tr>\n",
       "  </thead>\n",
       "  <tbody>\n",
       "    <tr>\n",
       "      <td>Knn</td>\n",
       "      <td>0.66</td>\n",
       "      <td>0.58</td>\n",
       "    </tr>\n",
       "    <tr>\n",
       "      <td>Adaboost</td>\n",
       "      <td>0.19</td>\n",
       "      <td>0.19</td>\n",
       "    </tr>\n",
       "    <tr>\n",
       "      <td>Decision Tree</td>\n",
       "      <td>0.8</td>\n",
       "      <td>-</td>\n",
       "    </tr>\n",
       "    <tr>\n",
       "      <td>Random Forest</td>\n",
       "      <td>0.75</td>\n",
       "      <td>0.71</td>\n",
       "    </tr>\n",
       "  </tbody>\n",
       "</table>\n",
       "</div>"
      ],
      "text/plain": [
       "              Accuracy Leave One Out Accuracy Holdout\n",
       "Knn                             0.66             0.58\n",
       "Adaboost                        0.19             0.19\n",
       "Decision Tree                    0.8                -\n",
       "Random Forest                   0.75             0.71"
      ]
     },
     "execution_count": 7,
     "metadata": {},
     "output_type": "execute_result"
    }
   ],
   "source": [
    "df_results= pd.DataFrame(columns=['Accuracy Leave One Out', 'Accuracy Holdout'], index=['Knn', 'Adaboost', 'Decision Tree'])\n",
    "df_results.loc['Knn'] = [0.66, 0.58 ]\n",
    "df_results.loc['Adaboost'] = [0.19, 0.19 ]\n",
    "df_results.loc['Decision Tree'] = [0.80, \"-\"]\n",
    "df_results.loc['Random Forest'] = [0.75, 0.71]\n",
    "df_results"
   ]
  }
 ],
 "metadata": {
  "kernelspec": {
   "display_name": "Python 3",
   "language": "python",
   "name": "python3"
  },
  "language_info": {
   "codemirror_mode": {
    "name": "ipython",
    "version": 3
   },
   "file_extension": ".py",
   "mimetype": "text/x-python",
   "name": "python",
   "nbconvert_exporter": "python",
   "pygments_lexer": "ipython3",
   "version": "3.7.4"
  }
 },
 "nbformat": 4,
 "nbformat_minor": 2
}
