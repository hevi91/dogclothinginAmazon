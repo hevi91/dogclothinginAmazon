{
 "cells": [
  {
   "cell_type": "code",
   "execution_count": 1,
   "metadata": {},
   "outputs": [],
   "source": [
    "import pandas as pd\n",
    "import pandas_profiling\n",
    "import numpy as np\n",
    "from sklearn import neighbors, datasets\n",
    "from sklearn.metrics import accuracy_score\n",
    "from sklearn.metrics import precision_score\n",
    "from sklearn.metrics import recall_score\n",
    "from sklearn.metrics import f1_score\n",
    "import matplotlib.pyplot as plt\n",
    "import seaborn as sns\n",
    "import os\n",
    "import matplotlib.pyplot as plt\n",
    "import seaborn as sns\n",
    "from sklearn import datasets\n",
    "from sklearn.model_selection import train_test_split\n",
    "from sklearn.model_selection import cross_val_score\n",
    "from sklearn.ensemble import RandomForestClassifier\n",
    "from sklearn.metrics import make_scorer\n",
    "from sklearn import neighbors\n",
    "from sklearn.linear_model import LogisticRegression\n",
    "from sklearn.model_selection import cross_val_score\n",
    "from sklearn.metrics import make_scorer\n",
    "from sklearn import metrics\n",
    "from sklearn.model_selection import LeaveOneOut\n",
    "from sklearn.ensemble import RandomForestClassifier\n"
   ]
  },
  {
   "cell_type": "code",
   "execution_count": 2,
   "metadata": {},
   "outputs": [],
   "source": [
    "df = pd.read_excel('C://Users//Stephanie//Desktop//dog proyect//datos 1 prueba 1.xlsx')"
   ]
  },
  {
   "cell_type": "code",
   "execution_count": 3,
   "metadata": {},
   "outputs": [],
   "source": [
    "del df['Titulo']\n",
    "del df['Vestidos para perros']\n",
    "del df['en Camisas para perros']\n",
    "del df['Chubasqueros para perros']\n",
    "del df['Disfraces para perros']\n",
    "del df['Sudaderas con capucha para perros']\n",
    "del df['Ropa y accesorios para perros']\n",
    "del df['Abrigos y chaquetas para perros']\n",
    "del df['Jersey para perros']\n",
    "del df['Botas y protectores de patas']\n",
    "del df['Link']"
   ]
  },
  {
   "cell_type": "code",
   "execution_count": 4,
   "metadata": {},
   "outputs": [],
   "source": [
    "#Se convierten las variables categóricas en numéricas\n",
    "columna = \"Categoría\" \n",
    "keys=df['Categoría'] .unique()\n",
    "values=range(len(keys))\n",
    "Categoría=dict(zip(keys,values))\n",
    "df['Categoría']=df['Categoría'].replace(Categoría)\n",
    "\n",
    "columna = \"Material\" \n",
    "keys=df['Material'] .unique()\n",
    "values=range(len(keys))\n",
    "Material=dict(zip(keys,values))\n",
    "df['Material']=df['Material'].replace(Material)\n",
    "\n",
    "columna = \"Color\"\n",
    "keys=df['Color'] .unique()\n",
    "values=range(len(keys))\n",
    "Color=dict(zip(keys,values))\n",
    "df['Color']=df['Color'].replace(Color)\n",
    "\n",
    "columna = \"Prime\"\n",
    "keys=df['Prime'] .unique()\n",
    "values=range(len(keys))\n",
    "Prime=dict(zip(keys,values))\n",
    "df['Prime']=df['Prime'].replace(Prime)\n",
    "\n",
    "columna = \"Epoca del año\"\n",
    "keys=df['Epoca del año'] .unique()\n",
    "values=range(len(keys))\n",
    "Epoca=dict(zip(keys,values))\n",
    "df['Epoca del año']=df['Epoca del año'].replace(Epoca)\n",
    "\n",
    "columna = \"Tallas\"\n",
    "keys=df['Tallas'] .unique()\n",
    "values=range(len(keys))\n",
    "Tallas=dict(zip(keys,values))\n",
    "df['Tallas']=df['Tallas'].replace(Tallas)"
   ]
  },
  {
   "cell_type": "code",
   "execution_count": 5,
   "metadata": {},
   "outputs": [],
   "source": [
    "X = np.asarray(df[['Precio','Color','Material','Prime','Tallas','Epoca del año','Valoraciones','Promedio Estrellas (5)', '5 estrellas %','4 estrellas %','3 estrellas %','2 estrellas %','1 estrella %','Antigüedad del producto']])\n",
    "y = np.asarray(df['Categoría'])"
   ]
  },
  {
   "cell_type": "code",
   "execution_count": 9,
   "metadata": {},
   "outputs": [
    {
     "name": "stdout",
     "output_type": "stream",
     "text": [
      "Accuracy:  0.9928379588182632\n"
     ]
    }
   ],
   "source": [
    "#Primero se busca predecir la categoría para luego obtener su posicionamiento ya que en Amazon los productos estan posicionados por categoría.\n",
    "loo = LeaveOneOut()\n",
    "loo.get_n_splits(X)\n",
    "yhat=[]\n",
    "\n",
    "for train_index, test_index in loo.split(X):\n",
    "    X_train, X_test = X[train_index], X[test_index]\n",
    "    y_train, y_test = y[train_index], y[test_index]\n",
    "    \n",
    "    clf =RandomForestClassifier(n_estimators =500) #Arbol de decisión\n",
    "    clf.fit(X_train, y_train)\n",
    "    yhat1 = clf.predict(X_test)\n",
    "    yhat.append(yhat1[0])\n",
    "print(\"Accuracy: \", accuracy_score(y, yhat))"
   ]
  },
  {
   "cell_type": "code",
   "execution_count": 17,
   "metadata": {},
   "outputs": [],
   "source": [
    "#Se colocan los atributos del productp para predecir su categoría\n",
    "Producto = [[14.99,0,0,0,0,0,104,4.5,0.7,0.16,0.08,0.03,0.03,2019]]\n",
    "yhat1 = clf.predict(np.array(Producto))\n",
    "#Resultado va a ser la categoria de ese producto (0-7)\n",
    "Categoria_X = yhat1[0]"
   ]
  },
  {
   "cell_type": "code",
   "execution_count": 18,
   "metadata": {},
   "outputs": [
    {
     "data": {
      "text/plain": [
       "0"
      ]
     },
     "execution_count": 18,
     "metadata": {},
     "output_type": "execute_result"
    }
   ],
   "source": [
    "Categoria_X"
   ]
  },
  {
   "cell_type": "code",
   "execution_count": 19,
   "metadata": {},
   "outputs": [],
   "source": [
    "#Se importa un dataset que contiene el posiconamiento de los productos\n",
    "df = pd.read_excel('C://Users//Stephanie//Desktop//dog proyect//Datos Posicionamiento 1.xlsx')\n",
    "df1=pd.read_excel('C://Users//Stephanie//Desktop//dog proyect//Datos Posicionamiento 1.xlsx')\n",
    "del df['Titulo']\n",
    "del df['Link']"
   ]
  },
  {
   "cell_type": "code",
   "execution_count": 20,
   "metadata": {},
   "outputs": [],
   "source": [
    "#Se convierten las variables categóricas a numéricas\n",
    "columna = \"Categoría\" \n",
    "keys=df['Categoría'] .unique()\n",
    "values=range(len(keys))\n",
    "Categoría=dict(zip(keys,values))\n",
    "df['Categoría']=df['Categoría'].replace(Categoría)\n",
    "\n",
    "\n",
    "columna = \"Material\" \n",
    "keys=df['Material'] .unique()\n",
    "values=range(len(keys))\n",
    "Material=dict(zip(keys,values))\n",
    "df['Material']=df['Material'].replace(Material)\n",
    "\n",
    "\n",
    "columna = \"Color\"\n",
    "keys=df['Color'] .unique()\n",
    "values=range(len(keys))\n",
    "Color=dict(zip(keys,values))\n",
    "df['Color']=df['Color'].replace(Color)\n",
    "\n",
    "columna = \"Prime\"\n",
    "keys=df['Prime'] .unique()\n",
    "values=range(len(keys))\n",
    "Prime=dict(zip(keys,values))\n",
    "df['Prime']=df['Prime'].replace(Prime)\n",
    "\n",
    "columna = \"Epoca del año\"\n",
    "keys=df['Epoca del año'] .unique()\n",
    "values=range(len(keys))\n",
    "Epoca=dict(zip(keys,values))\n",
    "df['Epoca del año']=df['Epoca del año'].replace(Epoca)\n",
    "\n",
    "columna = \"Tallas\"\n",
    "keys=df['Tallas'] .unique()\n",
    "values=range(len(keys))\n",
    "Tallas=dict(zip(keys,values))\n",
    "df['Tallas']=df['Tallas'].replace(Tallas)\n"
   ]
  },
  {
   "cell_type": "code",
   "execution_count": 21,
   "metadata": {},
   "outputs": [
    {
     "data": {
      "text/html": [
       "<div>\n",
       "<style scoped>\n",
       "    .dataframe tbody tr th:only-of-type {\n",
       "        vertical-align: middle;\n",
       "    }\n",
       "\n",
       "    .dataframe tbody tr th {\n",
       "        vertical-align: top;\n",
       "    }\n",
       "\n",
       "    .dataframe thead th {\n",
       "        text-align: right;\n",
       "    }\n",
       "</style>\n",
       "<table border=\"1\" class=\"dataframe\">\n",
       "  <thead>\n",
       "    <tr style=\"text-align: right;\">\n",
       "      <th></th>\n",
       "      <th>Posicionamiento</th>\n",
       "      <th>Categoría</th>\n",
       "      <th>Color</th>\n",
       "      <th>Material</th>\n",
       "      <th>Precio</th>\n",
       "      <th>Prime</th>\n",
       "      <th>Tallas</th>\n",
       "      <th>Epoca del año</th>\n",
       "      <th>Valoraciones</th>\n",
       "      <th>Promedio Estrellas (5)</th>\n",
       "      <th>5 estrellas %</th>\n",
       "      <th>4 estrellas %</th>\n",
       "      <th>3 estrellas %</th>\n",
       "      <th>2 estrellas %</th>\n",
       "      <th>1 estrella %</th>\n",
       "      <th>Antigüedad del producto</th>\n",
       "    </tr>\n",
       "  </thead>\n",
       "  <tbody>\n",
       "    <tr>\n",
       "      <td>0</td>\n",
       "      <td>905</td>\n",
       "      <td>0</td>\n",
       "      <td>0</td>\n",
       "      <td>0</td>\n",
       "      <td>14.99</td>\n",
       "      <td>0</td>\n",
       "      <td>0</td>\n",
       "      <td>0</td>\n",
       "      <td>104</td>\n",
       "      <td>4.5</td>\n",
       "      <td>0.70</td>\n",
       "      <td>0.16</td>\n",
       "      <td>0.08</td>\n",
       "      <td>0.03</td>\n",
       "      <td>0.03</td>\n",
       "      <td>2019</td>\n",
       "    </tr>\n",
       "    <tr>\n",
       "      <td>1</td>\n",
       "      <td>898</td>\n",
       "      <td>0</td>\n",
       "      <td>0</td>\n",
       "      <td>0</td>\n",
       "      <td>14.99</td>\n",
       "      <td>0</td>\n",
       "      <td>1</td>\n",
       "      <td>0</td>\n",
       "      <td>104</td>\n",
       "      <td>4.5</td>\n",
       "      <td>0.70</td>\n",
       "      <td>0.16</td>\n",
       "      <td>0.08</td>\n",
       "      <td>0.03</td>\n",
       "      <td>0.03</td>\n",
       "      <td>2019</td>\n",
       "    </tr>\n",
       "    <tr>\n",
       "      <td>2</td>\n",
       "      <td>1562</td>\n",
       "      <td>0</td>\n",
       "      <td>0</td>\n",
       "      <td>0</td>\n",
       "      <td>14.99</td>\n",
       "      <td>0</td>\n",
       "      <td>2</td>\n",
       "      <td>0</td>\n",
       "      <td>104</td>\n",
       "      <td>4.5</td>\n",
       "      <td>0.70</td>\n",
       "      <td>0.16</td>\n",
       "      <td>0.08</td>\n",
       "      <td>0.03</td>\n",
       "      <td>0.03</td>\n",
       "      <td>2019</td>\n",
       "    </tr>\n",
       "    <tr>\n",
       "      <td>3</td>\n",
       "      <td>484</td>\n",
       "      <td>0</td>\n",
       "      <td>0</td>\n",
       "      <td>0</td>\n",
       "      <td>14.99</td>\n",
       "      <td>0</td>\n",
       "      <td>3</td>\n",
       "      <td>0</td>\n",
       "      <td>104</td>\n",
       "      <td>4.5</td>\n",
       "      <td>0.70</td>\n",
       "      <td>0.16</td>\n",
       "      <td>0.08</td>\n",
       "      <td>0.03</td>\n",
       "      <td>0.03</td>\n",
       "      <td>2019</td>\n",
       "    </tr>\n",
       "    <tr>\n",
       "      <td>4</td>\n",
       "      <td>29</td>\n",
       "      <td>1</td>\n",
       "      <td>1</td>\n",
       "      <td>1</td>\n",
       "      <td>11.99</td>\n",
       "      <td>0</td>\n",
       "      <td>0</td>\n",
       "      <td>1</td>\n",
       "      <td>66</td>\n",
       "      <td>4.5</td>\n",
       "      <td>0.05</td>\n",
       "      <td>0.19</td>\n",
       "      <td>0.10</td>\n",
       "      <td>0.08</td>\n",
       "      <td>0.04</td>\n",
       "      <td>2017</td>\n",
       "    </tr>\n",
       "  </tbody>\n",
       "</table>\n",
       "</div>"
      ],
      "text/plain": [
       "   Posicionamiento  Categoría  Color  Material  Precio  Prime  Tallas  \\\n",
       "0              905          0      0         0   14.99      0       0   \n",
       "1              898          0      0         0   14.99      0       1   \n",
       "2             1562          0      0         0   14.99      0       2   \n",
       "3              484          0      0         0   14.99      0       3   \n",
       "4               29          1      1         1   11.99      0       0   \n",
       "\n",
       "   Epoca del año  Valoraciones  Promedio Estrellas (5)  5 estrellas %  \\\n",
       "0              0           104                     4.5           0.70   \n",
       "1              0           104                     4.5           0.70   \n",
       "2              0           104                     4.5           0.70   \n",
       "3              0           104                     4.5           0.70   \n",
       "4              1            66                     4.5           0.05   \n",
       "\n",
       "   4 estrellas %  3 estrellas %  2 estrellas %  1 estrella %  \\\n",
       "0           0.16           0.08           0.03          0.03   \n",
       "1           0.16           0.08           0.03          0.03   \n",
       "2           0.16           0.08           0.03          0.03   \n",
       "3           0.16           0.08           0.03          0.03   \n",
       "4           0.19           0.10           0.08          0.04   \n",
       "\n",
       "   Antigüedad del producto  \n",
       "0                     2019  \n",
       "1                     2019  \n",
       "2                     2019  \n",
       "3                     2019  \n",
       "4                     2017  "
      ]
     },
     "execution_count": 21,
     "metadata": {},
     "output_type": "execute_result"
    }
   ],
   "source": [
    "df.head()"
   ]
  },
  {
   "cell_type": "code",
   "execution_count": 22,
   "metadata": {},
   "outputs": [],
   "source": [
    "#Se filtra el dataset en base a la categoría obtenida en los pasos anteriores\n",
    "df21 = df[df[\"Categoría\"]==Categoria_X]"
   ]
  },
  {
   "cell_type": "code",
   "execution_count": 23,
   "metadata": {},
   "outputs": [
    {
     "data": {
      "text/plain": [
       "Text(0.5, 1.0, 'Posicionamiento')"
      ]
     },
     "execution_count": 23,
     "metadata": {},
     "output_type": "execute_result"
    },
    {
     "data": {
      "image/png": "[encoded data removed]",
      "text/plain": [
       "<Figure size 432x288 with 1 Axes>"
      ]
     },
     "metadata": {
      "needs_background": "light"
     },
     "output_type": "display_data"
    }
   ],
   "source": [
    "# A continuación se va a realizar un binning para poder obtener el posicionamiento. Se dividirá en 3 grupos: Más Vendidos,\n",
    "#Menos Vendidos y Medianamente vendidos.\n",
    "\n",
    "plt.hist(df21[\"Posicionamiento\"])\n",
    "# set x/y labels and plot title\n",
    "plt.xlabel(\"Posicionamiento\")\n",
    "plt.ylabel(\"count\")\n",
    "plt.title(\"Posicionamiento\")"
   ]
  },
  {
   "cell_type": "code",
   "execution_count": 24,
   "metadata": {},
   "outputs": [
    {
     "data": {
      "text/plain": [
       "array([   9.,  753., 1497., 2241.])"
      ]
     },
     "execution_count": 24,
     "metadata": {},
     "output_type": "execute_result"
    }
   ],
   "source": [
    "bins = np.linspace(min(df21[\"Posicionamiento\"]), max(df21[\"Posicionamiento\"]), 4)\n",
    "bins"
   ]
  },
  {
   "cell_type": "code",
   "execution_count": 25,
   "metadata": {},
   "outputs": [],
   "source": [
    "group_names=['Más Vendidos', 'Medianamente Vendidos', 'Menos Vendidos']"
   ]
  },
  {
   "cell_type": "code",
   "execution_count": 26,
   "metadata": {},
   "outputs": [
    {
     "name": "stderr",
     "output_type": "stream",
     "text": [
      "C:\\Users\\Stephanie\\Anaconda3\\lib\\site-packages\\ipykernel_launcher.py:1: SettingWithCopyWarning: \n",
      "A value is trying to be set on a copy of a slice from a DataFrame.\n",
      "Try using .loc[row_indexer,col_indexer] = value instead\n",
      "\n",
      "See the caveats in the documentation: http://pandas.pydata.org/pandas-docs/stable/user_guide/indexing.html#returning-a-view-versus-a-copy\n",
      "  \"\"\"Entry point for launching an IPython kernel.\n"
     ]
    }
   ],
   "source": [
    "df21['Posicionamientos'] = pd.cut(df21['Posicionamiento'], bins, labels=group_names, include_lowest=True )"
   ]
  },
  {
   "cell_type": "code",
   "execution_count": 27,
   "metadata": {},
   "outputs": [
    {
     "data": {
      "text/plain": [
       "Más Vendidos             44\n",
       "Medianamente Vendidos    12\n",
       "Menos Vendidos            8\n",
       "Name: Posicionamientos, dtype: int64"
      ]
     },
     "execution_count": 27,
     "metadata": {},
     "output_type": "execute_result"
    }
   ],
   "source": [
    "df21[\"Posicionamientos\"].value_counts()"
   ]
  },
  {
   "cell_type": "code",
   "execution_count": 31,
   "metadata": {},
   "outputs": [
    {
     "name": "stdout",
     "output_type": "stream",
     "text": [
      "Accuracy:  0.59375\n"
     ]
    }
   ],
   "source": [
    "# Se clasifica el posicionamiento del producto en base a la categoría obtenida anteriormente.\n",
    "from sklearn.model_selection import LeaveOneOut\n",
    "from sklearn.ensemble import RandomForestClassifier\n",
    "\n",
    "Categoria_x = 2 #Categoria que elegimos hacer clasificación\n",
    "\n",
    "df_2 = df21[['Material','Precio','Prime','Color','Tallas','Epoca del año','Valoraciones','Promedio Estrellas (5)','Antigüedad del producto']]\n",
    "\n",
    "X = np.asanyarray(df_2)\n",
    "y = np.asanyarray(df21[\"Posicionamientos\"])\n",
    "\n",
    "loo = LeaveOneOut()\n",
    "loo.get_n_splits(X)\n",
    "yhat=[]\n",
    "\n",
    "for train_index, test_index in loo.split(X):\n",
    "    X_train, X_test = X[train_index], X[test_index]\n",
    "    y_train, y_test = y[train_index], y[test_index]\n",
    "    \n",
    "    clf =RandomForestClassifier(n_estimators =500) #Arbol de decisión\n",
    "    clf.fit(X_train, y_train)\n",
    "    yhat1 = clf.predict(X_test)\n",
    "    yhat.append(yhat1[0])\n",
    "print(\"Accuracy: \", accuracy_score(y, yhat))"
   ]
  },
  {
   "cell_type": "code",
   "execution_count": 30,
   "metadata": {},
   "outputs": [
    {
     "data": {
      "text/plain": [
       "array(['Medianamente Vendidos'], dtype=object)"
      ]
     },
     "execution_count": 30,
     "metadata": {},
     "output_type": "execute_result"
    }
   ],
   "source": [
    "yhat1 = clf.predict(np.array(Producto))\n",
    "yhat1 # Posicionamiento de ese producto"
   ]
  }
 ],
 "metadata": {
  "kernelspec": {
   "display_name": "Python 3",
   "language": "python",
   "name": "python3"
  },
  "language_info": {
   "codemirror_mode": {
    "name": "ipython",
    "version": 3
   },
   "file_extension": ".py",
   "mimetype": "text/x-python",
   "name": "python",
   "nbconvert_exporter": "python",
   "pygments_lexer": "ipython3",
   "version": "3.7.4"
  }
 },
 "nbformat": 4,
 "nbformat_minor": 2
}
